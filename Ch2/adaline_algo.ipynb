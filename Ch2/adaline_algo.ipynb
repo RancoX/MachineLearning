{
 "cells": [
  {
   "cell_type": "code",
   "execution_count": 1,
   "metadata": {},
   "outputs": [],
   "source": [
    "import numpy as np\n",
    "from dataclasses import dataclass\n",
    "import pandas as pd\n",
    "import matplotlib.pyplot as plt\n",
    "%matplotlib inline"
   ]
  },
  {
   "cell_type": "code",
   "execution_count": 18,
   "metadata": {},
   "outputs": [
    {
     "name": "stdout",
     "output_type": "stream",
     "text": [
      "[[1 2 3]\n",
      " [2 3 4]\n",
      " [3 4 5]\n",
      " [4 5 6]]\n",
      "[[ 1  0 -1]]\n",
      "[[-2]\n",
      " [-2]\n",
      " [-2]\n",
      " [-2]]\n",
      "[10 14 18]\n",
      "[[ 1  0 -1]\n",
      " [ 1  0 -1]\n",
      " [ 1  0 -1]]\n"
     ]
    }
   ],
   "source": [
    "a=np.array([[1,2,3],[2,3,4],[3,4,5],[4,5,6]])\n",
    "b=np.array([[1,0,-1],])\n",
    "print(a)\n",
    "print(b)\n",
    "print(a@b.T)\n",
    "print(np.sum(a,axis=0))\n",
    "print(np.repeat(b,3,axis=0))"
   ]
  },
  {
   "cell_type": "code",
   "execution_count": 2,
   "metadata": {},
   "outputs": [],
   "source": [
    "# Adaline with gradient descent\n",
    "@dataclass\n",
    "class Adaline:\n",
    "    eta:float = 0.1\n",
    "    n_iter:int = 50\n",
    "    seed:int = 1\n",
    "\n",
    "    def fit(self, X, y):\n",
    "        # initialize wj and b\n",
    "        # X must be n samples, m features; y must be n samples, 1 column\n",
    "        self.w=np.random.RandomState(seed=self.seed).normal(0,0.05,size=X.shape[1]).T  # shape: m x 1\n",
    "        self.b=np.float_(0)\n",
    "        # get total sample size n\n",
    "        n=X.shape[0]\n",
    "\n",
    "        # initialize errors \n",
    "        self.errors=[]\n",
    "\n",
    "        # run iterations\n",
    "        for _ in range(self.n_iter):\n",
    "            # initialize error collector \n",
    "            error=0\n",
    "            # in each iteration calc identity func/net input then convert to y-y_hat\n",
    "            # then calc dL/db then dL/dwj\n",
    "            dL_db = - np.sum(y-self.net_input(X),axis=0)/n  # n x 1 then sum by column to a scalar\n",
    "            dL_dw = - ((y.T-self.net_input(X).T) @ X)/n  # (1 x n - 1 x n) * n x m = 1 x m\n",
    "\n",
    "            # calc delta_w and delta_b\n",
    "            delta_b=-self.eta*dL_db  # 1 x 1\n",
    "            delta_w=-self.eta*dL_dw.T  # m x 1\n",
    "\n",
    "            # update both wj and b\n",
    "            self.b+=delta_b\n",
    "            self.w+=delta_w # m x 1 + m x 1 = m x 1\n",
    "\n",
    "            # record error of this iteration\n",
    "            error = np.sum(y-self.net_input(X),axis=0)\n",
    "            self.errors.append(error)\n",
    "        \n",
    "        # next iteration\n",
    "    \n",
    "    def net_input(self,X):\n",
    "        z = X @ self.w + self.b # n x m * m x 1 = n x 1\n",
    "        return z\n"
   ]
  },
  {
   "cell_type": "code",
   "execution_count": 3,
   "metadata": {},
   "outputs": [
    {
     "name": "stdout",
     "output_type": "stream",
     "text": [
      "      0    1    2    3  4\n",
      "48  5.3  3.7  1.5  0.2  0\n",
      "49  5.0  3.3  1.4  0.2  0\n",
      "50  7.0  3.2  4.7  1.4  1\n",
      "51  6.4  3.2  4.5  1.5  1\n",
      "<class 'numpy.ndarray'> (100, 2)\n"
     ]
    },
    {
     "data": {
      "image/png": "[encoded data removed]",
      "text/plain": [
       "<Figure size 640x480 with 1 Axes>"
      ]
     },
     "metadata": {},
     "output_type": "display_data"
    }
   ],
   "source": [
    "# training perceptron on Iris dataset\n",
    "url=r'.\\iris.data'\n",
    "df=pd.read_csv(url,header=None,encoding='utf-8')\n",
    "# keep only the first two Iris flower: setosa and versicolor\n",
    "df=df.iloc[:100,:]\n",
    "\n",
    "# convert string class labels to 1-versicolor and 0-setosa\n",
    "df.iloc[:,-1]=np.where(df.iloc[:,-1]=='Iris-versicolor',1,0)\n",
    "print(df.iloc[48:52,:])\n",
    "# extract X and y\n",
    "X=df.iloc[:,[0,2]].values\n",
    "y=df.iloc[:,-1].values\n",
    "print(type(X),X.shape)\n",
    "\n",
    "# training\n",
    "adaline=Adaline(eta=0.01,n_iter=30)\n",
    "adaline.fit(X,y)\n",
    "plt.plot(range(1,len(adaline.errors)+1), adaline.errors, marker='o')\n",
    "plt.xlabel('Epochs')\n",
    "plt.ylabel('Number of updates')\n",
    "plt.show()"
   ]
  },
  {
   "cell_type": "code",
   "execution_count": 4,
   "metadata": {},
   "outputs": [
    {
     "name": "stdout",
     "output_type": "stream",
     "text": [
      "[5.493169304525756, 0.2749978820398916, -2.7962344029709207, -4.590406568117962, -5.625093076165289, -6.208247013066098, -6.523096664083255, -6.678659027073719, -6.739795382743232, -6.745094376518446, -6.7175124625268445, -6.670704973686782, -6.61279311175027, -6.548605308183077, -6.481010834781764, -6.411713302344246, -6.341722792412617, -6.271636775505945, -6.201807257204617, -6.132440229742715, -6.063654845341845, -5.99551862396148, -5.928068401517504, -5.861322793675159, -5.795289611408342, -5.729970272861175, -5.665362428012161, -5.601461519959049, -5.538261713496798, -5.475756447238768]\n"
     ]
    }
   ],
   "source": [
    "print(adaline.errors)"
   ]
  }
 ],
 "metadata": {
  "kernelspec": {
   "display_name": "Python 3.10.7 64-bit",
   "language": "python",
   "name": "python3"
  },
  "language_info": {
   "codemirror_mode": {
    "name": "ipython",
    "version": 3
   },
   "file_extension": ".py",
   "mimetype": "text/x-python",
   "name": "python",
   "nbconvert_exporter": "python",
   "pygments_lexer": "ipython3",
   "version": "3.10.7"
  },
  "orig_nbformat": 4,
  "vscode": {
   "interpreter": {
    "hash": "e450050b432e843bda3c41bf3272c133bfc370a7003f3e377e27f87a49ce1127"
   }
  }
 },
 "nbformat": 4,
 "nbformat_minor": 2
}
