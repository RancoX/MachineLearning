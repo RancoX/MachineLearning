{
 "cells": [
  {
   "cell_type": "code",
   "execution_count": 41,
   "metadata": {},
   "outputs": [],
   "source": [
    "import numpy as np\n",
    "from dataclasses import dataclass\n",
    "import os\n",
    "import pandas as pd\n",
    "import matplotlib.pyplot as plt\n",
    "%matplotlib inline"
   ]
  },
  {
   "cell_type": "code",
   "execution_count": 29,
   "metadata": {},
   "outputs": [
    {
     "name": "stdout",
     "output_type": "stream",
     "text": [
      "[[ 0.08121727 -0.03058782 -0.02640859 -0.05364843]\n",
      " [ 0.04327038 -0.11507693  0.08724059 -0.03806035]] [[1]\n",
      " [0]]\n",
      "[(array([ 0.08121727, -0.03058782, -0.02640859, -0.05364843]), array([1])), (array([ 0.04327038, -0.11507693,  0.08724059, -0.03806035]), array([0]))]\n",
      "[ 0.08121727 -0.03058782 -0.02640859 -0.05364843]\n",
      "[1]\n"
     ]
    }
   ],
   "source": [
    "ary=np.random.RandomState(seed=1).normal(loc=0,scale=0.05,size=(2,4))\n",
    "y=np.array([[1,],[0]])\n",
    "print(ary,y)\n",
    "combo=list(zip(ary,y))\n",
    "print(combo)\n",
    "print(combo[0][0])\n",
    "print(combo[0][1])"
   ]
  },
  {
   "cell_type": "code",
   "execution_count": 19,
   "metadata": {},
   "outputs": [
    {
     "name": "stdout",
     "output_type": "stream",
     "text": [
      "32\n",
      "0.0\n"
     ]
    }
   ],
   "source": [
    "a=np.array([1,2,3])\n",
    "b=np.array([4,5,6])\n",
    "print(a@b)\n",
    "print(np.float_(0))"
   ]
  },
  {
   "cell_type": "code",
   "execution_count": 54,
   "metadata": {},
   "outputs": [],
   "source": [
    "# simple perceptron class\n",
    "@dataclass\n",
    "class Perceptron:\n",
    "    eta:float = 0.01\n",
    "    n_iter:int = 50\n",
    "    random_state:float = 1\n",
    "\n",
    "    def fit(self, X, y):\n",
    "        # initialize wi and b vector\n",
    "        self.w=np.random.RandomState(seed=self.random_state).normal(0.1,0.05,size=X.shape[1])\n",
    "        self.b=np.float_(0)\n",
    "        self.errors=[]\n",
    "\n",
    "        # loop for n_iter times\n",
    "        for _ in range(self.n_iter):\n",
    "            # initialize error\n",
    "            error=0\n",
    "            # for each time apply wi to xi(each row)\n",
    "            for combo in zip(X,y):\n",
    "                # calc delta b first\n",
    "                y_hat=self.net_input(combo[0])\n",
    "                delta_b=self.eta * (combo[-1]-y_hat)\n",
    "                # then calc delta w\n",
    "                delta_w=delta_b*combo[0]\n",
    "\n",
    "                # calc error\n",
    "                error+=int(delta_b!=0.0)\n",
    "\n",
    "                # update both w and b\n",
    "                self.w+=delta_w\n",
    "                self.b+=delta_b\n",
    "                # next row \n",
    "            self.errors.append(error)\n",
    "            # next iter\n",
    "\n",
    "    def net_input(self,X):\n",
    "        # calculate net input z and return y_hat\n",
    "        z = self.w @ X + self.b\n",
    "        y_hat = np.where(z >= 0, 1, 0)\n",
    "        return y_hat"
   ]
  },
  {
   "cell_type": "code",
   "execution_count": null,
   "metadata": {},
   "outputs": [],
   "source": [
    "# training perceptron on Iris dataset\n",
    "url=r'C:\\Ranco\\Python\\LGIA\\Miscellany\\Tutorials\\Machine_Learning\\iris.data'\n",
    "df=pd.read_csv(url,header=None,encoding='utf-8')\n",
    "# keep only the first two Iris flower: setosa and versicolor\n",
    "df=df.iloc[:100,:]\n",
    "print(df.head(10))\n",
    "print(df.tail(10))\n",
    "# convert string class labels to 1-versicolor and 0-setosa\n",
    "df.iloc[:,-1]=np.where(df.iloc[:,-1]=='Iris-versicolor',1,0)\n",
    "print(df.iloc[48:52,:])"
   ]
  },
  {
   "cell_type": "code",
   "execution_count": 49,
   "metadata": {},
   "outputs": [
    {
     "name": "stdout",
     "output_type": "stream",
     "text": [
      "<class 'numpy.ndarray'> (100, 2)\n"
     ]
    },
    {
     "data": {
      "image/png": "[encoded data removed]",
      "text/plain": [
       "<Figure size 432x288 with 1 Axes>"
      ]
     },
     "metadata": {
      "needs_background": "light"
     },
     "output_type": "display_data"
    }
   ],
   "source": [
    "# extract X and y\n",
    "X=df.iloc[:,[0,2]].values\n",
    "y=df.iloc[:,-1].values\n",
    "print(type(X),X.shape)\n",
    "plt.scatter(X[:50, 0], X[:50, 1], color='red', marker='o', label='Setosa')\n",
    "plt.scatter(X[50:100, 0], X[50:100, 1], color='blue', marker='s', label='Versicolor')\n",
    "plt.xlabel('Sepal length [cm]')\n",
    "plt.ylabel('Petal length [cm]')\n",
    "plt.legend(loc='upper left')\n",
    "plt.show()"
   ]
  },
  {
   "cell_type": "code",
   "execution_count": 60,
   "metadata": {},
   "outputs": [
    {
     "data": {
      "image/png": "[encoded data removed]",
      "text/plain": [
       "<Figure size 432x288 with 1 Axes>"
      ]
     },
     "metadata": {
      "needs_background": "light"
     },
     "output_type": "display_data"
    }
   ],
   "source": [
    "# training\n",
    "ppn=Perceptron(eta=0.01,n_iter=20)\n",
    "ppn.fit(X,y)\n",
    "plt.plot(range(1,len(ppn.errors)+1), ppn.errors, marker='o')\n",
    "plt.xlabel('Epochs')\n",
    "plt.ylabel('Number of updates')\n",
    "plt.show()"
   ]
  },
  {
   "cell_type": "code",
   "execution_count": 58,
   "metadata": {},
   "outputs": [
    {
     "name": "stdout",
     "output_type": "stream",
     "text": [
      "[5, 3, 1, 0, 0, 0, 0, 0, 0, 0, 0, 0, 0, 0, 0, 0, 0, 0, 0, 0, 0, 0, 0, 0, 0, 0, 0, 0, 0, 0, 0, 0, 0, 0, 0, 0, 0, 0, 0, 0, 0, 0, 0, 0, 0, 0, 0, 0, 0, 0, 0, 0, 0, 0, 0, 0, 0, 0, 0, 0, 0, 0, 0, 0, 0, 0, 0, 0, 0, 0, 0, 0, 0, 0, 0, 0, 0, 0, 0, 0, 0, 0, 0, 0, 0, 0, 0, 0, 0, 0, 0, 0, 0, 0, 0, 0, 0, 0, 0, 0]\n"
     ]
    }
   ],
   "source": [
    "print(ppn.errors)"
   ]
  }
 ],
 "metadata": {
  "kernelspec": {
   "display_name": "Python 3.10.3 64-bit",
   "language": "python",
   "name": "python3"
  },
  "language_info": {
   "codemirror_mode": {
    "name": "ipython",
    "version": 3
   },
   "file_extension": ".py",
   "mimetype": "text/x-python",
   "name": "python",
   "nbconvert_exporter": "python",
   "pygments_lexer": "ipython3",
   "version": "3.10.3"
  },
  "orig_nbformat": 4,
  "vscode": {
   "interpreter": {
    "hash": "4e4388c06034c4f9ddb8700318e99f55758dd0f1e391ca0d0385ccbf429d1b37"
   }
  }
 },
 "nbformat": 4,
 "nbformat_minor": 2
}
