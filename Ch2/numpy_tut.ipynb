{
 "cells": [
  {
   "cell_type": "code",
   "execution_count": 1,
   "metadata": {},
   "outputs": [],
   "source": [
    "import numpy as np"
   ]
  },
  {
   "cell_type": "code",
   "execution_count": 7,
   "metadata": {},
   "outputs": [
    {
     "name": "stdout",
     "output_type": "stream",
     "text": [
      "[ 1  6 15]\n"
     ]
    }
   ],
   "source": [
    "a=np.array([1,2,3],dtype='int8')\n",
    "b=np.array([1,3,5],dtype='int8')\n",
    "print(a*b)"
   ]
  },
  {
   "cell_type": "code",
   "execution_count": 11,
   "metadata": {},
   "outputs": [
    {
     "name": "stdout",
     "output_type": "stream",
     "text": [
      "[[9.  8.  7.5]\n",
      " [6.  5.  2.5]]\n"
     ]
    }
   ],
   "source": [
    "b=np.array([[9,8,7.5],[6,5,2.5]],dtype='float32')\n",
    "print(b)"
   ]
  },
  {
   "cell_type": "code",
   "execution_count": 12,
   "metadata": {},
   "outputs": [
    {
     "name": "stdout",
     "output_type": "stream",
     "text": [
      "1\n",
      "2\n"
     ]
    }
   ],
   "source": [
    "# get dimension\n",
    "print(a.ndim)\n",
    "print(b.ndim)"
   ]
  },
  {
   "cell_type": "code",
   "execution_count": 13,
   "metadata": {},
   "outputs": [
    {
     "name": "stdout",
     "output_type": "stream",
     "text": [
      "(3,)\n",
      "(2, 3)\n"
     ]
    }
   ],
   "source": [
    "# shape\n",
    "print(a.shape)\n",
    "print(b.shape)"
   ]
  },
  {
   "cell_type": "code",
   "execution_count": 18,
   "metadata": {},
   "outputs": [
    {
     "name": "stdout",
     "output_type": "stream",
     "text": [
      "int8\n",
      "3\n",
      "1\n",
      "3\n",
      "24\n"
     ]
    }
   ],
   "source": [
    "# memory usage\n",
    "print(a.dtype)\n",
    "print(a.size) \n",
    "print(a.itemsize)\n",
    "print(a.nbytes)\n",
    "print(b.nbytes)"
   ]
  },
  {
   "cell_type": "code",
   "execution_count": 19,
   "metadata": {},
   "outputs": [
    {
     "name": "stdout",
     "output_type": "stream",
     "text": [
      "[[ 1  2  3  4  5  6  7]\n",
      " [ 8  9 10 11 12 13 14]]\n",
      "(2, 7)\n",
      "2\n"
     ]
    }
   ],
   "source": [
    "a=np.array([[1,2,3,4,5,6,7],[8,9,10,11,12,13,14]])\n",
    "print(a)\n",
    "print(a.shape)\n",
    "print(a.ndim)"
   ]
  },
  {
   "cell_type": "code",
   "execution_count": 21,
   "metadata": {},
   "outputs": [
    {
     "name": "stdout",
     "output_type": "stream",
     "text": [
      "13\n",
      "13\n"
     ]
    }
   ],
   "source": [
    "# access array [row, col]\n",
    "print(a[1,5])\n",
    "print(a[1,-2])"
   ]
  },
  {
   "cell_type": "code",
   "execution_count": 23,
   "metadata": {},
   "outputs": [
    {
     "name": "stdout",
     "output_type": "stream",
     "text": [
      "[1 2 3 4 5 6 7]\n",
      "[1 2 3 4 5 6 7]\n"
     ]
    }
   ],
   "source": [
    "# get a specific row/col\n",
    "print(a[0,])\n",
    "print(a[0,:])"
   ]
  },
  {
   "cell_type": "code",
   "execution_count": 27,
   "metadata": {},
   "outputs": [
    {
     "name": "stdout",
     "output_type": "stream",
     "text": [
      "[[ 2  4  6]\n",
      " [ 9 11 13]]\n"
     ]
    }
   ],
   "source": [
    "# step indexing\n",
    "print(a[:,1:6:2])"
   ]
  },
  {
   "cell_type": "code",
   "execution_count": 28,
   "metadata": {},
   "outputs": [
    {
     "name": "stdout",
     "output_type": "stream",
     "text": [
      "[[ 1  2  3  4  5  6  7]\n",
      " [ 8  9 10 11 12 48 14]]\n"
     ]
    }
   ],
   "source": [
    "# change entry\n",
    "a[1,5]=48\n",
    "print(a)"
   ]
  },
  {
   "cell_type": "code",
   "execution_count": 30,
   "metadata": {},
   "outputs": [
    {
     "name": "stdout",
     "output_type": "stream",
     "text": [
      "[[ 1  2  5  4  5  6  7]\n",
      " [ 8  9  5 11 12 48 14]]\n",
      "[[  1   2  99   4   5   6   7]\n",
      " [  8   9 100  11  12  48  14]]\n"
     ]
    }
   ],
   "source": [
    "a[:,2]=5\n",
    "print(a)\n",
    "a[:,2]=[99,100]\n",
    "print(a)"
   ]
  },
  {
   "cell_type": "code",
   "execution_count": 33,
   "metadata": {},
   "outputs": [
    {
     "name": "stdout",
     "output_type": "stream",
     "text": [
      "[0. 0. 0. 0.]\n",
      "[[1.2 1.2 1.2]\n",
      " [1.2 1.2 1.2]]\n"
     ]
    }
   ],
   "source": [
    "# all zeros\n",
    "a=np.zeros(4)\n",
    "print(a)\n",
    "a=np.zeros((2,3))+1.2\n",
    "print(a)"
   ]
  },
  {
   "cell_type": "code",
   "execution_count": 34,
   "metadata": {},
   "outputs": [
    {
     "name": "stdout",
     "output_type": "stream",
     "text": [
      "[[[1. 1.]\n",
      "  [1. 1.]\n",
      "  [1. 1.]]\n",
      "\n",
      " [[1. 1.]\n",
      "  [1. 1.]\n",
      "  [1. 1.]]\n",
      "\n",
      " [[1. 1.]\n",
      "  [1. 1.]\n",
      "  [1. 1.]]\n",
      "\n",
      " [[1. 1.]\n",
      "  [1. 1.]\n",
      "  [1. 1.]]]\n"
     ]
    }
   ],
   "source": [
    "# all ones\n",
    "a=np.ones((4,3,2))\n",
    "print(a)"
   ]
  },
  {
   "cell_type": "code",
   "execution_count": 36,
   "metadata": {},
   "outputs": [
    {
     "name": "stdout",
     "output_type": "stream",
     "text": [
      "[[99 99 99 99]\n",
      " [99 99 99 99]\n",
      " [99 99 99 99]]\n"
     ]
    }
   ],
   "source": [
    "# any other number\n",
    "a=np.full((3,4),99)\n",
    "print(a)"
   ]
  },
  {
   "cell_type": "code",
   "execution_count": 37,
   "metadata": {},
   "outputs": [
    {
     "name": "stdout",
     "output_type": "stream",
     "text": [
      "[[15 15 15 15]\n",
      " [15 15 15 15]\n",
      " [15 15 15 15]]\n"
     ]
    }
   ],
   "source": [
    "# full like\n",
    "a=np.full_like(a,15)\n",
    "print(a)"
   ]
  },
  {
   "cell_type": "code",
   "execution_count": 42,
   "metadata": {},
   "outputs": [
    {
     "name": "stdout",
     "output_type": "stream",
     "text": [
      "[[0.5941391  0.97358992]\n",
      " [0.62642854 0.79953475]\n",
      " [0.50521458 0.5794699 ]\n",
      " [0.10490567 0.61214718]]\n",
      "[[-0.40246954  0.55419756]\n",
      " [-0.43268798  0.76770323]\n",
      " [-1.78476112 -0.62248789]]\n",
      "[[0.10893312 0.12230171]\n",
      " [0.02715743 0.48126487]\n",
      " [0.81693202 0.28318455]]\n"
     ]
    }
   ],
   "source": [
    "# random numbers\n",
    "a=np.random.rand(4,2)\n",
    "print(a)\n",
    "a=np.random.normal(loc=0,scale=0.5,size=(3,2))\n",
    "print(a)\n",
    "a=np.random.random_sample(a.shape)\n",
    "print(a)"
   ]
  },
  {
   "cell_type": "code",
   "execution_count": 46,
   "metadata": {},
   "outputs": [
    {
     "name": "stdout",
     "output_type": "stream",
     "text": [
      "[[ -8  14  13  14  13]\n",
      " [ -4  -8   0   9  -2]\n",
      " [ 11  10   6 -10  -2]\n",
      " [ -4   3  14   0  12]]\n"
     ]
    }
   ],
   "source": [
    "# random intergers\n",
    "a=np.random.randint(-10,15,(4,5))\n",
    "print(a)"
   ]
  },
  {
   "cell_type": "code",
   "execution_count": 47,
   "metadata": {},
   "outputs": [
    {
     "name": "stdout",
     "output_type": "stream",
     "text": [
      "[[1. 0. 0. 0.]\n",
      " [0. 1. 0. 0.]\n",
      " [0. 0. 1. 0.]\n",
      " [0. 0. 0. 1.]]\n"
     ]
    }
   ],
   "source": [
    "# identity matrix\n",
    "a=np.identity(4)\n",
    "print(a)"
   ]
  },
  {
   "cell_type": "code",
   "execution_count": 53,
   "metadata": {},
   "outputs": [
    {
     "name": "stdout",
     "output_type": "stream",
     "text": [
      "[[1 2 3 4]\n",
      " [1 2 3 4]\n",
      " [1 2 3 4]]\n",
      "2\n",
      "(3, 4)\n"
     ]
    }
   ],
   "source": [
    "# repeat array\n",
    "a=np.array([[1,2,3,4]])\n",
    "a=np.repeat(a,3,axis=0)\n",
    "print(a)\n",
    "print(a.ndim)\n",
    "print(a.shape)"
   ]
  },
  {
   "cell_type": "code",
   "execution_count": 56,
   "metadata": {},
   "outputs": [
    {
     "name": "stdout",
     "output_type": "stream",
     "text": [
      "[[100 100 100 100]\n",
      " [  1   2   3   4]\n",
      " [  1   2   3   4]]\n",
      "[[100 100 100 100]\n",
      " [  1   2   3   4]\n",
      " [  1   2   3   4]]\n",
      "[[100 100 100 100]\n",
      " [  1   2   3   4]\n",
      " [  1   2   3   4]]\n",
      "[[100 100 100 100]\n",
      " [  1   2   3   4]\n",
      " [  1   2   3   4]]\n",
      "[[999 999 999 999]\n",
      " [  1   2   3   4]\n",
      " [  1   2   3   4]]\n"
     ]
    }
   ],
   "source": [
    "# be careful when copying\n",
    "b=a;print(b)\n",
    "b[0]=100 # override\n",
    "print(b);print(a)\n",
    "c=b.copy()\n",
    "c[0]=999 # no override\n",
    "print(b);print(c)"
   ]
  },
  {
   "cell_type": "code",
   "execution_count": 61,
   "metadata": {},
   "outputs": [
    {
     "name": "stdout",
     "output_type": "stream",
     "text": [
      "[1 2 3 4 5]\n",
      "[3 4 5 6 7]\n",
      "[ 1  4  9 16 25]\n",
      "[0.5 1.  1.5 2.  2.5]\n",
      "[1 2 0 1 2]\n",
      "[0 0 1 1 1]\n",
      "[ 0.84147098  0.90929743  0.14112001 -0.7568025  -0.95892427]\n"
     ]
    }
   ],
   "source": [
    "# basic math\n",
    "a=np.array([1,2,3,4,5])\n",
    "print(a)\n",
    "print(a+2)\n",
    "print(a**2)\n",
    "print(a/2)\n",
    "print(a%3)\n",
    "print(a//3)\n",
    "print(np.sin(a))"
   ]
  },
  {
   "cell_type": "code",
   "execution_count": 62,
   "metadata": {},
   "outputs": [
    {
     "name": "stdout",
     "output_type": "stream",
     "text": [
      "[[1 1 1]\n",
      " [1 1 1]]\n",
      "[[2 2]\n",
      " [2 2]\n",
      " [2 2]]\n"
     ]
    }
   ],
   "source": [
    "# Linear algebra\n",
    "a=np.full((2,3),1);print(a)\n",
    "b=np.full((3,2),2);print(b)"
   ]
  },
  {
   "cell_type": "code",
   "execution_count": 64,
   "metadata": {},
   "outputs": [
    {
     "name": "stdout",
     "output_type": "stream",
     "text": [
      "[[6 6]\n",
      " [6 6]]\n",
      "[[6 6]\n",
      " [6 6]]\n",
      "[[6 6]\n",
      " [6 6]]\n"
     ]
    }
   ],
   "source": [
    "print(a @ b)\n",
    "print(np.dot(a,b))\n",
    "print(np.matmul(a,b))"
   ]
  },
  {
   "cell_type": "code",
   "execution_count": 66,
   "metadata": {},
   "outputs": [
    {
     "name": "stdout",
     "output_type": "stream",
     "text": [
      "1.0\n",
      "(array([1., 1., 1.]), array([[1., 0., 0.],\n",
      "       [0., 1., 0.],\n",
      "       [0., 0., 1.]]))\n"
     ]
    }
   ],
   "source": [
    "c=np.identity(3)\n",
    "print(np.linalg.det(c))\n",
    "print(np.linalg.eig(c))"
   ]
  },
  {
   "cell_type": "code",
   "execution_count": 69,
   "metadata": {},
   "outputs": [
    {
     "name": "stdout",
     "output_type": "stream",
     "text": [
      "[[1 2 3]\n",
      " [4 5 6]]\n",
      "1\n",
      "[1 2 3]\n",
      "[1 4]\n",
      "21\n",
      "[5 7 9]\n",
      "[ 6 15]\n"
     ]
    }
   ],
   "source": [
    "# statistics\n",
    "stats=np.array([[1,2,3],[4,5,6]])\n",
    "print(stats)\n",
    "print(np.min(stats))\n",
    "print(np.min(stats,axis=0))\n",
    "print(np.min(stats,axis=1))\n",
    "print(np.sum(stats))\n",
    "print(np.sum(stats, axis=0))\n",
    "print(np.sum(stats, axis=1))"
   ]
  },
  {
   "cell_type": "code",
   "execution_count": 72,
   "metadata": {},
   "outputs": [
    {
     "name": "stdout",
     "output_type": "stream",
     "text": [
      "(2, 4)\n",
      "[[1]\n",
      " [2]\n",
      " [3]\n",
      " [4]\n",
      " [5]\n",
      " [6]\n",
      " [7]\n",
      " [8]]\n",
      "[[[1 2]\n",
      "  [3 4]]\n",
      "\n",
      " [[5 6]\n",
      "  [7 8]]]\n"
     ]
    },
    {
     "ename": "ValueError",
     "evalue": "cannot reshape array of size 8 into shape (2,5)",
     "output_type": "error",
     "traceback": [
      "\u001b[1;31m---------------------------------------------------------------------------\u001b[0m",
      "\u001b[1;31mValueError\u001b[0m                                Traceback (most recent call last)",
      "Cell \u001b[1;32mIn [72], line 8\u001b[0m\n\u001b[0;32m      6\u001b[0m after\u001b[38;5;241m=\u001b[39mbefore\u001b[38;5;241m.\u001b[39mreshape((\u001b[38;5;241m2\u001b[39m,\u001b[38;5;241m2\u001b[39m,\u001b[38;5;241m2\u001b[39m))\n\u001b[0;32m      7\u001b[0m \u001b[38;5;28mprint\u001b[39m(after)\n\u001b[1;32m----> 8\u001b[0m after\u001b[38;5;241m=\u001b[39m\u001b[43mbefore\u001b[49m\u001b[38;5;241;43m.\u001b[39;49m\u001b[43mreshape\u001b[49m\u001b[43m(\u001b[49m\u001b[43m(\u001b[49m\u001b[38;5;241;43m2\u001b[39;49m\u001b[43m,\u001b[49m\u001b[38;5;241;43m5\u001b[39;49m\u001b[43m)\u001b[49m\u001b[43m)\u001b[49m\n\u001b[0;32m      9\u001b[0m \u001b[38;5;28mprint\u001b[39m(after)\n",
      "\u001b[1;31mValueError\u001b[0m: cannot reshape array of size 8 into shape (2,5)"
     ]
    }
   ],
   "source": [
    "# Reorgnizing arrays\n",
    "before=np.array([[1,2,3,4],[5,6,7,8]])\n",
    "print(before.shape)\n",
    "after=before.reshape((8,1))\n",
    "print(after)\n",
    "after=before.reshape((2,2,2))\n",
    "print(after)\n",
    "after=before.reshape((2,5))\n",
    "print(after)"
   ]
  },
  {
   "cell_type": "code",
   "execution_count": 74,
   "metadata": {},
   "outputs": [
    {
     "name": "stdout",
     "output_type": "stream",
     "text": [
      "[[1 2 3 4]\n",
      " [5 6 7 8]]\n",
      "[1 2 3 4 5 6 7 8]\n"
     ]
    }
   ],
   "source": [
    "# stacking\n",
    "\n",
    "# vstack\n",
    "v1=np.array([1,2,3,4])\n",
    "v2=np.array([5,6,7,8])\n",
    "print(np.vstack([v1,v2]))\n",
    "\n",
    "# hstack\n",
    "print(np.hstack([v1,v2]))"
   ]
  },
  {
   "cell_type": "code",
   "execution_count": 75,
   "metadata": {},
   "outputs": [
    {
     "name": "stdout",
     "output_type": "stream",
     "text": [
      "[[-28.32731207  -8.12779801  -8.57172058]\n",
      " [-32.97218665  36.61464927  12.06778212]\n",
      " [ -6.38952408  18.4504864  -43.96407843]\n",
      " [ 42.73046466 -38.26340943  16.29520708]\n",
      " [-11.23653295  37.96521411 -19.59953814]\n",
      " [  9.11050226 -41.24900818 -40.35935114]\n",
      " [ 11.79647606  23.99626792  37.4547864 ]\n",
      " [ 38.95414577 -41.22844445  18.33955197]\n",
      " [-41.15348347  47.14041864 -28.96778764]\n",
      " [ 18.57088944 -21.18212591   9.21830668]]\n"
     ]
    }
   ],
   "source": [
    "# Advanced indexing\n",
    "a=np.random.RandomState(312).uniform(-50,50,size=(10,3))\n",
    "print(a)"
   ]
  },
  {
   "cell_type": "code",
   "execution_count": 76,
   "metadata": {},
   "outputs": [
    {
     "name": "stdout",
     "output_type": "stream",
     "text": [
      "[[False False False]\n",
      " [False  True False]\n",
      " [False False False]\n",
      " [ True False False]\n",
      " [False  True False]\n",
      " [False False False]\n",
      " [False False  True]\n",
      " [ True False False]\n",
      " [False  True False]\n",
      " [False False False]]\n"
     ]
    }
   ],
   "source": [
    "selected=a>25\n",
    "print(selected)"
   ]
  },
  {
   "cell_type": "code",
   "execution_count": 77,
   "metadata": {},
   "outputs": [
    {
     "name": "stdout",
     "output_type": "stream",
     "text": [
      "[36.61464927 42.73046466 37.96521411 37.4547864  38.95414577 47.14041864]\n"
     ]
    }
   ],
   "source": [
    "print(a[selected])"
   ]
  },
  {
   "cell_type": "code",
   "execution_count": 82,
   "metadata": {},
   "outputs": [
    {
     "name": "stdout",
     "output_type": "stream",
     "text": [
      "[[-32.97218665  36.61464927  12.06778212]\n",
      " [  9.11050226 -41.24900818 -40.35935114]\n",
      " [-41.15348347  47.14041864 -28.96778764]]\n"
     ]
    }
   ],
   "source": [
    "print(a[[1,5,8],:])"
   ]
  },
  {
   "cell_type": "code",
   "execution_count": 84,
   "metadata": {},
   "outputs": [
    {
     "name": "stdout",
     "output_type": "stream",
     "text": [
      "[ True  True  True]\n",
      "[False  True False  True  True False  True  True  True False]\n"
     ]
    }
   ],
   "source": [
    "print(np.any(a>30,axis=0))\n",
    "print(np.any(a>30,axis=1))"
   ]
  },
  {
   "cell_type": "code",
   "execution_count": 87,
   "metadata": {},
   "outputs": [
    {
     "name": "stdout",
     "output_type": "stream",
     "text": [
      "[[False False False]\n",
      " [False  True False]\n",
      " [False False False]\n",
      " [ True False False]\n",
      " [False  True False]\n",
      " [False False False]\n",
      " [False False  True]\n",
      " [ True False False]\n",
      " [False  True False]\n",
      " [False False False]]\n"
     ]
    }
   ],
   "source": [
    "print((a>20) & ~(a<35))"
   ]
  },
  {
   "cell_type": "code",
   "execution_count": null,
   "metadata": {},
   "outputs": [],
   "source": []
  }
 ],
 "metadata": {
  "kernelspec": {
   "display_name": "Python 3.10.7 64-bit",
   "language": "python",
   "name": "python3"
  },
  "language_info": {
   "codemirror_mode": {
    "name": "ipython",
    "version": 3
   },
   "file_extension": ".py",
   "mimetype": "text/x-python",
   "name": "python",
   "nbconvert_exporter": "python",
   "pygments_lexer": "ipython3",
   "version": "3.10.7"
  },
  "orig_nbformat": 4,
  "vscode": {
   "interpreter": {
    "hash": "e450050b432e843bda3c41bf3272c133bfc370a7003f3e377e27f87a49ce1127"
   }
  }
 },
 "nbformat": 4,
 "nbformat_minor": 2
}
